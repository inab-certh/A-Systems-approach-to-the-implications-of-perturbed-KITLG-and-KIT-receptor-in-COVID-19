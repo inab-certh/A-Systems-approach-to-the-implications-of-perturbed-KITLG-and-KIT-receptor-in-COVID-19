{
  "nbformat": 4,
  "nbformat_minor": 0,
  "metadata": {
    "colab": {
      "name": "COVID19proteomics.ipynb",
      "provenance": [],
      "collapsed_sections": []
    },
    "kernelspec": {
      "name": "python3",
      "display_name": "Python 3"
    }
  },
  "cells": [
    {
      "cell_type": "code",
      "metadata": {
        "id": "rx4DM9TvZRbZ"
      },
      "source": [
        "pip install bioinfokit"
      ],
      "execution_count": null,
      "outputs": []
    },
    {
      "cell_type": "code",
      "metadata": {
        "id": "lnRznjSftzBh"
      },
      "source": [
        "import pandas as pd\n",
        "import numpy as np\n",
        "import seaborn as sns\n",
        "from sklearn.preprocessing import LabelEncoder\n",
        "from matplotlib import pyplot\n",
        "import matplotlib.pyplot as plt\n",
        "import statsmodels.api as sm\n",
        "from statsmodels.formula.api import ols\n",
        "import scipy.stats as stats\n",
        "from statsmodels.stats.multicomp import pairwise_tukeyhsd\n",
        "from numpy import mean\n",
        "from scipy.stats import mannwhitneyu\n",
        "import scipy.stats as stats\n",
        "from statistics import median\n",
        "from pandas.core.common import SettingWithCopyWarning\n",
        "import warnings\n",
        "warnings.simplefilter(action=\"ignore\", category=SettingWithCopyWarning)\n",
        "from bioinfokit.analys import visuz\n",
        "import math\n",
        "from scipy import stats\n",
        "import scipy as sp\n",
        "\n",
        "%matplotlib inline\n",
        "plt.rcParams['figure.figsize']=25,20"
      ],
      "execution_count": 4,
      "outputs": []
    },
    {
      "cell_type": "markdown",
      "metadata": {
        "id": "hA28kwLmyjng"
      },
      "source": [
        "# Load MGH dataset"
      ]
    },
    {
      "cell_type": "code",
      "metadata": {
        "id": "o12KaCUjuFdG"
      },
      "source": [
        "df = pd.read_csv('..../clinical_merged.csv')"
      ],
      "execution_count": 6,
      "outputs": []
    },
    {
      "cell_type": "markdown",
      "metadata": {
        "id": "Q06HcNQ2uvhf"
      },
      "source": [
        "# Data preprocessing"
      ]
    },
    {
      "cell_type": "code",
      "metadata": {
        "id": "cAU3AD4-uPT2"
      },
      "source": [
        "df[\"WHO 0\"].replace({1: 'Serious', 2: 'Serious', 4: 'Non-Serious',5: 'Non-Serious', 6: 'Non-Serious'}, inplace=True)\n",
        "df[\"WHO 3\"].replace({1: 'Serious', 2: 'Serious', 4: 'Non-Serious',5: 'Non-Serious', 6: 'Non-Serious'}, inplace=True)\n",
        "df[\"WHO 7\"].replace({1: 'Serious', 2: 'Serious', 3: 'Serious', 4: 'Non-Serious',5: 'Non-Serious', 6: 'Non-Serious'}, inplace=True)\n",
        "df[\"WHO 28\"].replace({1: 'Serious', 2: 'Serious', 4: 'Non-Serious',5: 'Non-Serious', 6: 'Non-Serious'}, inplace=True)\n",
        "df[\"WHO max\"].replace({1: 'Serious', 2: 'Serious', 4: 'Non-Serious',5: 'Non-Serious', 6: 'Non-Serious'}, inplace=True)\n",
        "df[\"Timepoint\"].replace({'D7.1': 'D7', 'D7.2': 'D7', 'DE.1': 'DE','DE.2': 'DE', 'D3.1': 'D3'}, inplace=True)\n",
        "df[\"abs_neut_0_cat\"].replace({1: 'low', 2: 'normal', 3: 'normal', 4: 'high', 5: 'high'}, inplace=True)\n",
        "df[\"abs_neut_3_cat\"].replace({1: 'low', 2: 'normal', 3: 'normal', 4: 'high', 5: 'high'}, inplace=True)\n",
        "df[\"abs_neut_7_cat\"].replace({1: 'low', 2: 'normal', 3: 'normal', 4: 'high', 5: 'high'}, inplace=True)\n",
        "df[\"abs_mono_0_cat\"].replace({1: 'low', 2: 'normal', 3: 'normal', 4: 'normal', 5: 'high'}, inplace=True)\n",
        "df[\"abs_mono_3_cat\"].replace({1: 'low', 2: 'normal', 3: 'normal', 4: 'normal', 5: 'high'}, inplace=True)\n",
        "df[\"abs_mono_7_cat\"].replace({1: 'low', 2: 'normal', 3: 'normal', 4: 'normal', 5: 'high'}, inplace=True)\n",
        "df[\"abs_lymph_0_cat\"].replace({1: 'low', 2: 'low', 3: 'normal', 4: 'high', 5: 'high'}, inplace=True)\n",
        "df[\"abs_lymph_3_cat\"].replace({1: 'low', 2: 'low', 3: 'normal', 4: 'high', 5: 'high'}, inplace=True)\n",
        "df[\"abs_lymph_7_cat\"].replace({1: 'low', 2: 'low', 3: 'normal', 4: 'high', 5: 'high'}, inplace=True)\n",
        "df[\"crp_0_cat\"].replace({1: 'normal', 2: 'high', 3: 'high', 4: 'high', 5: 'high'}, inplace=True)\n",
        "df[\"crp_3_cat\"].replace({1: 'normal', 2: 'high', 3: 'high', 4: 'high', 5: 'high'}, inplace=True)\n",
        "df[\"crp_7_cat\"].replace({1: 'normal', 2: 'high', 3: 'high', 4: 'high', 5: 'high'}, inplace=True)\n",
        "df[\"ddimer_0_cat\"].replace({1: 'normal', 2: 'high', 3: 'high', 4: 'high', 5: 'high'}, inplace=True)\n",
        "df[\"ddimer_3_cat\"].replace({1: 'normal', 2: 'high', 3: 'high', 4: 'high', 5: 'high'}, inplace=True)\n",
        "df[\"ddimer_7_cat\"].replace({1: 'normal', 2: 'high', 3: 'high', 4: 'high', 5: 'high'}, inplace=True)\n",
        "df[\"ldh_0_cat\"].replace({1: 'normal', 2: 'normal', 3: 'high', 4: 'high', 5: 'high'}, inplace=True)\n",
        "df[\"ldh_3_cat\"].replace({1: 'normal', 2: 'normal', 3: 'high', 4: 'high', 5: 'high'}, inplace=True)\n",
        "df[\"ldh_7_cat\"].replace({1: 'normal', 2: 'normal', 3: 'high', 4: 'high', 5: 'high'}, inplace=True)\n",
        "df[\"creat_0_cat\"].replace({1: 'normal', 2: 'normal', 3: 'high', 4: 'high', 5: 'high'}, inplace=True)\n",
        "df[\"creat_3_cat\"].replace({1: 'normal', 2: 'normal', 3: 'high', 4: 'high', 5: 'high'}, inplace=True)\n",
        "df[\"creat_7_cat\"].replace({1: 'normal', 2: 'normal', 3: 'high', 4: 'high', 5: 'high'}, inplace=True)\n",
        "df[\"Age cat\"].replace({1: '20-34', 2: '36-49', 3: '50-64', 4: '65-79', 5: '80+'}, inplace=True)\n",
        "df[\"BMI cat\"].replace({0: 'underweight', 1: 'normal', 2: 'overweight', 3: 'obese', 4: 'severely obese', 5: 'Unknown'}, inplace=True)\n",
        "\n",
        "#NPX values\n",
        "npx = pd.read_csv('/content/drive/My Drive/npx.csv')\n",
        "\n",
        "#Covid patients\n",
        "df_covid = df.loc[df['COVID'] == 1]\n",
        "\n",
        "#List of proteins\n",
        "proteins = npx.Assay.unique()\n",
        "\n",
        "#SCF dataset\n",
        "kitlg = df_covid.loc[df_covid['Assay'] == 'KITLG']\n",
        "\n",
        "#KIT dataset\n",
        "kit = df_covid.loc[df_covid['Assay'] == 'KIT']"
      ],
      "execution_count": 8,
      "outputs": []
    },
    {
      "cell_type": "markdown",
      "metadata": {
        "id": "gknz8WMZu4JH"
      },
      "source": [
        "# Filter datasets in timepoints"
      ]
    },
    {
      "cell_type": "code",
      "metadata": {
        "id": "BscbdYAwODnM"
      },
      "source": [
        "#Day 0\n",
        "D0 = df.loc[df['Timepoint'] == 'D0']\n",
        "\n",
        "#Day 3\n",
        "D3 = df.loc[df['Timepoint'] == 'D3']\n",
        "\n",
        "#Day 7\n",
        "D7 = df.loc[df['Timepoint'] == 'D7']\n",
        "\n",
        "#Day E\n",
        "DE = df.loc[df['Timepoint'] == 'DE']"
      ],
      "execution_count": 10,
      "outputs": []
    },
    {
      "cell_type": "markdown",
      "metadata": {
        "id": "PwQn9a5aNwDW"
      },
      "source": [
        "Covid patients"
      ]
    },
    {
      "cell_type": "code",
      "metadata": {
        "id": "1Ex4hHQeNjGX"
      },
      "source": [
        "#Day 0\n",
        "day0 = df_covid.loc[df_covid['Timepoint'] == 'D0']\n",
        "\n",
        "#Day 3\n",
        "day3 = df_covid.loc[df_covid['Timepoint'] == 'D3']\n",
        "\n",
        "#Day 7\n",
        "day7 = df_covid.loc[df_covid['Timepoint'] == 'D7']\n",
        "\n",
        "#Day E\n",
        "daye = df_covid.loc[df_covid['Timepoint'] == 'DE']"
      ],
      "execution_count": 11,
      "outputs": []
    },
    {
      "cell_type": "markdown",
      "metadata": {
        "id": "iZWD3OjIvT3H"
      },
      "source": [
        "SCF values based on date"
      ]
    },
    {
      "cell_type": "code",
      "metadata": {
        "id": "mqgYZHH4n3T9"
      },
      "source": [
        "#Day 0\n",
        "D0k = kitlg.loc[kitlg['Timepoint'] == 'D0']\n",
        "\n",
        "#Day 3\n",
        "D3k = kitlg.loc[kitlg['Timepoint'] == 'D3']\n",
        "\n",
        "#Day 7\n",
        "D7k = kitlg.loc[kitlg['Timepoint'] == 'D7']\n",
        "\n",
        "#Day E\n",
        "DEk = kitlg.loc[kitlg['Timepoint'] == 'DE']"
      ],
      "execution_count": 12,
      "outputs": []
    },
    {
      "cell_type": "markdown",
      "metadata": {
        "id": "UWbUZoWNvfMn"
      },
      "source": [
        "KIT values based on date"
      ]
    },
    {
      "cell_type": "code",
      "metadata": {
        "id": "RGgEgFa3khgq"
      },
      "source": [
        "#Day 0\n",
        "D0kt = kit.loc[kit['Timepoint'] == 'D0']\n",
        "\n",
        "#Day 3\n",
        "D3kt = kit.loc[kit['Timepoint'] == 'D3']\n",
        "\n",
        "#Day 7\n",
        "D7kt = kit.loc[kit['Timepoint'] == 'D7']\n",
        "\n",
        "#Day E\n",
        "DEkt = kit.loc[kit['Timepoint'] == 'DE']"
      ],
      "execution_count": 13,
      "outputs": []
    },
    {
      "cell_type": "markdown",
      "metadata": {
        "id": "b6LQbLJ-vl2o"
      },
      "source": [
        "# Basic functions for statistical inference"
      ]
    },
    {
      "cell_type": "code",
      "metadata": {
        "id": "M9MQK4APvnpI"
      },
      "source": [
        "def whod(df, who, value):\n",
        "\n",
        "  whovalue = df.loc[df[who] == value]\n",
        "\n",
        "  return whovalue\n",
        "\n",
        "\n",
        "def fold(d1,d2):\n",
        "\n",
        "  result = np.nanmean(d1) - np.nanmean(d2)\n",
        "\n",
        "  return result\n",
        "\n",
        "def pvalue(d1,d2):\n",
        "\n",
        "  \n",
        "  t, p = sp.stats.mstats.ttest_ind(d1.T, d2.T)\n",
        "  p = np.array(p)\n",
        "  \n",
        "  return [t, p]\n",
        "\n",
        "def dbprotFP25(proteins, who, wholist):\n",
        "\n",
        "  whov0 = whod(proteins, who, wholist[0])\n",
        "  whov1 = whod(proteins, who, wholist[1])\n",
        "  foldf = fold(whov0['NPX'],whov1['NPX'])\n",
        "  sta = pvalue(whov0['NPX'],whov1['NPX']) \n",
        "  pname = proteins.Assay.unique()\n",
        "  df = pd.DataFrame()\n",
        "  lfc_thr=0.3\n",
        "  pv_thr=0.05\n",
        "  df['Protein']=pname\n",
        "  df['Fold_Diff']= foldf\n",
        "  df['P-value']=(-1)*np.log10(sta[1])\n",
        "  if (foldf >= lfc_thr) & (sta[1] < pv_thr):\n",
        "    df['Regulation'] = 'upregulated'\n",
        "  elif (foldf <= -lfc_thr) & (sta[1] < pv_thr):\n",
        "    df['Regulation'] = 'downregulated'\n",
        "  else:\n",
        "     df['Regulation'] = 'unimportant'\n",
        "  # print(df['Regulation'])\n",
        "  return df\n",
        "\n",
        "\n",
        "def calc_median(db, values, days, prob):\n",
        "  for i in range(len(prob)):\n",
        "    problem = prob[i]\n",
        "    pr1 = db.loc[db[problem] == values[0]]\n",
        "    pr2 = db.loc[db[problem] == values[1]]\n",
        "    for j in range(len(days)):\n",
        "      day = days[j]\n",
        "      pr1_d = pr1.loc[pr1['Timepoint'] == day]\n",
        "      pr2_d = pr2.loc[pr2['Timepoint'] == day]\n",
        "      fdf = fold(pr1_d['NPX'],pr2_d['NPX'])\n",
        "      pvaluel = pvalue(pr1_d['NPX'],pr2_d['NPX'])\n",
        "      print(problem +\" \"+ day +\" \"+ str(values[0]),median(pr1_d['NPX']))\n",
        "      print(problem +\" \"+ day +\" \"+ str(values[1]),median(pr2_d['NPX']))\n",
        "      print(problem +\" \"+ day +\"fold difference: \",round(fdf,2))\n",
        "      print(problem +\" \"+ day +\" p-value: \",pvaluel[1])\n",
        "\n",
        "def calc_median_WHO(db, values, days, prob, who):\n",
        "  for i in range(len(prob)):\n",
        "    problem = prob[i]\n",
        "    pr1 = db.loc[db[problem] == values[0]]\n",
        "    pr2 = db.loc[db[problem] == values[1]]\n",
        "    for j in range(len(days)):\n",
        "      day = days[j]\n",
        "      pr1_d = pr1.loc[pr1[who] == day]\n",
        "      pr2_d = pr2.loc[pr2[who] == day]\n",
        "      fdf = fold(pr1_d['NPX'],pr2_d['NPX'])\n",
        "      pvaluel = pvalue(pr1_d['NPX'],pr2_d['NPX'])\n",
        "      print(problem +\" \"+ str(day) +\" \"+ str(values[0]),median(pr1_d['NPX']))\n",
        "      print(problem +\" \"+ str(day) +\" \"+ str(values[1]),median(pr2_d['NPX']))\n",
        "      print(problem +\" \"+ str(day) +\"fold difference: \",round(fdf,2))\n",
        "      print(problem +\" \"+ str(day) +\" p-value: \",pvaluel[1])\n",
        "\n",
        "def proticunondeath(proteins, icu, noicu, b3, a3):\n",
        "\n",
        "  \n",
        "  foldf_icunoicu = fold(icu['NPX'],noicu['NPX'])\n",
        "  sta_icunoicu = pvalue(icu['NPX'],noicu['NPX']) \n",
        "  foldf_b3a3 = fold(a3['NPX'], b3['NPX'])\n",
        "  sta_b3a3 = pvalue(a3['NPX'], b3['NPX']) \n",
        "  foldf_b3icu = fold(b3['NPX'],icu['NPX'])\n",
        "  sta_b3icu = pvalue(b3['NPX'],icu['NPX']) \n",
        "  foldf_b3noicu = fold(b3['NPX'],noicu['NPX'])\n",
        "  sta_b3noicu = pvalue(b3['NPX'],noicu['NPX']) \n",
        "  foldf_a3icu = fold(a3['NPX'],icu['NPX'])\n",
        "  sta_a3icu = pvalue(a3['NPX'],icu['NPX']) \n",
        "  foldf_a3noicu = fold(a3['NPX'],noicu['NPX'])\n",
        "  sta_a3noicu = pvalue(a3['NPX'],noicu['NPX']) \n",
        "  pname = proteins.Assay.unique()\n",
        "  df = pd.DataFrame()\n",
        "\n",
        "  df['Protein']=pname\n",
        "  df['median_icu'] = median(icu['NPX'])\n",
        "  df['median_noicu'] = median(noicu['NPX'])\n",
        "  df['median_b3'] = median(b3['NPX'])\n",
        "  df['median_a3'] = median(a3['NPX'])\n",
        "  df['Fold_Diff_icunoicu']=foldf_icunoicu\n",
        "  df['P-value_icunoicu']=sta_icunoicu[1]\n",
        "  df['Fold_Diff_b3a3']=foldf_b3a3\n",
        "  df['P-value_b3a3']=sta_b3a3[1]\n",
        "  df['Fold_Diff_b3icu']=foldf_b3icu\n",
        "  df['P-value_b3icu']=sta_b3icu[1]\n",
        "  df['Fold_Diff_b3noicu']=foldf_b3noicu\n",
        "  df['P-value_b3noicu']=sta_b3noicu[1]\n",
        "  df['Fold_Diff_a3icu']=foldf_a3icu\n",
        "  df['P-value_a3icu']=sta_a3icu[1]\n",
        "  df['Fold_Diff_a3noicu']=foldf_a3noicu\n",
        "  df['P-value_a3noicu']=sta_a3noicu[1]\n",
        "  \n",
        "  return df"
      ],
      "execution_count": 17,
      "outputs": []
    },
    {
      "cell_type": "markdown",
      "metadata": {
        "id": "dog9IbjywPjB"
      },
      "source": [
        "# Differentially expressed proteins"
      ]
    },
    {
      "cell_type": "markdown",
      "metadata": {
        "id": "MGNGR8kJyKpK"
      },
      "source": [
        "COVID19/non-COVID19 - Day0"
      ]
    },
    {
      "cell_type": "code",
      "metadata": {
        "colab": {
          "base_uri": "https://localhost:8080/"
        },
        "id": "LoXTq-IQxNcz",
        "outputId": "725fa768-8f25-4c68-8f36-b7b8777362e6"
      },
      "source": [
        "unprot=[]\n",
        "\n",
        "uniprot = df[['UniProt', 'Assay']].drop_duplicates(keep='first')\n",
        "values = [1, 0]\n",
        "clinc = 'COVID'\n",
        "ds = D0\n",
        "result=pd.DataFrame(columns=['Protein', 'Fold_Diff', 'P-value', 'Regulation'])\n",
        "for p in proteins:\n",
        "  dt = ds.loc[ds['Assay'] == p]\n",
        "  if not dt.empty:\n",
        "    unprot.append(uniprot.loc[uniprot['Assay']==p].iloc[0]['UniProt'])\n",
        "    result = pd.concat([result,dbprotFP25(dt, clinc, values)])\n",
        "\n",
        "result['UniProt'] = unprot\n",
        "\n",
        "result = result.dropna()\n",
        "\n",
        "\n",
        "\n",
        "print(result)"
      ],
      "execution_count": 20,
      "outputs": [
        {
          "output_type": "stream",
          "text": [
            "/usr/local/lib/python3.7/dist-packages/ipykernel_launcher.py:34: RuntimeWarning: divide by zero encountered in log10\n",
            "/usr/local/lib/python3.7/dist-packages/ipykernel_launcher.py:34: RuntimeWarning: divide by zero encountered in log10\n",
            "/usr/local/lib/python3.7/dist-packages/ipykernel_launcher.py:34: RuntimeWarning: divide by zero encountered in log10\n"
          ],
          "name": "stderr"
        },
        {
          "output_type": "stream",
          "text": [
            "    Protein  Fold_Diff   P-value     Regulation UniProt\n",
            "0    AARSD1  -0.430314  1.819491  downregulated  Q9BTE6\n",
            "0   ABHD14B   0.074206  0.267140    unimportant  Q96IU4\n",
            "0      ABL1   0.025966  0.077470    unimportant  P00519\n",
            "0     ACAA1   0.521613  2.569018    upregulated  P09110\n",
            "0      ACAN  -0.063067  0.420176    unimportant  P16112\n",
            "..      ...        ...       ...            ...     ...\n",
            "0   XPNPEP2   0.005030  0.010349    unimportant  O43895\n",
            "0      YES1   0.070050  0.142901    unimportant  P07947\n",
            "0    YTHDF3   0.109076  0.517564    unimportant  Q7Z739\n",
            "0    ZBTB16   0.249945  1.368511    unimportant  Q05516\n",
            "0    ZBTB17   0.332400  4.067435    upregulated  Q13105\n",
            "\n",
            "[1420 rows x 5 columns]\n"
          ],
          "name": "stdout"
        }
      ]
    },
    {
      "cell_type": "markdown",
      "metadata": {
        "id": "p-7PM6iOz1xx"
      },
      "source": [
        "Serious/non-Serious - COVID19 patients"
      ]
    },
    {
      "cell_type": "code",
      "metadata": {
        "colab": {
          "base_uri": "https://localhost:8080/"
        },
        "id": "8L14dKbkzKYx",
        "outputId": "c7d94895-8476-49ca-de35-17fa84eec832"
      },
      "source": [
        "unprot=[]\n",
        "\n",
        "uniprot = df[['UniProt', 'Assay']].drop_duplicates(keep='first')\n",
        "values = ['Serious', 'Non-Serious']\n",
        "clinc = 'WHO max'\n",
        "ds = df_covid\n",
        "result=pd.DataFrame(columns=['Protein', 'Fold_Diff', 'P-value', 'Regulation'])\n",
        "for p in proteins:\n",
        "  dt = ds.loc[ds['Assay'] == p]\n",
        "  if not dt.empty:\n",
        "    unprot.append(uniprot.loc[uniprot['Assay']==p].iloc[0]['UniProt'])\n",
        "    result = pd.concat([result,dbprotFP25(dt, clinc, values)])\n",
        "\n",
        "result['UniProt'] = unprot\n",
        "\n",
        "result = result.dropna()\n",
        "\n",
        "\n",
        "\n",
        "print(result)"
      ],
      "execution_count": 22,
      "outputs": [
        {
          "output_type": "stream",
          "text": [
            "/usr/local/lib/python3.7/dist-packages/ipykernel_launcher.py:34: RuntimeWarning: divide by zero encountered in log10\n"
          ],
          "name": "stderr"
        },
        {
          "output_type": "stream",
          "text": [
            "    Protein  Fold_Diff    P-value     Regulation UniProt\n",
            "0    AARSD1   0.296438   3.130155    unimportant  Q9BTE6\n",
            "0   ABHD14B   0.451976  13.231406    upregulated  Q96IU4\n",
            "0      ABL1   0.808122  24.419649    upregulated  P00519\n",
            "0     ACAA1   0.730728  11.973836    upregulated  P09110\n",
            "0      ACAN   0.448713  23.635747    upregulated  P16112\n",
            "..      ...        ...        ...            ...     ...\n",
            "0   XPNPEP2  -0.642566   9.653829  downregulated  O43895\n",
            "0      YES1   0.808410   8.948899    upregulated  P07947\n",
            "0    YTHDF3   0.513906  12.128362    upregulated  Q7Z739\n",
            "0    ZBTB16   0.722778  15.522318    upregulated  Q05516\n",
            "0    ZBTB17   0.506132  26.403838    upregulated  Q13105\n",
            "\n",
            "[1420 rows x 5 columns]\n"
          ],
          "name": "stdout"
        }
      ]
    }
  ]
}